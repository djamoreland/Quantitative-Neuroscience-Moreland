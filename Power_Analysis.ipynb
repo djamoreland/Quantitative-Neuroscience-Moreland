{
  "nbformat": 4,
  "nbformat_minor": 0,
  "metadata": {
    "colab": {
      "provenance": [],
      "authorship_tag": "ABX9TyMnWXlZAs8UOl/+098zXWyd",
      "include_colab_link": true
    },
    "kernelspec": {
      "name": "python3",
      "display_name": "Python 3"
    },
    "language_info": {
      "name": "python"
    }
  },
  "cells": [
    {
      "cell_type": "markdown",
      "metadata": {
        "id": "view-in-github",
        "colab_type": "text"
      },
      "source": [
        "<a href=\"https://colab.research.google.com/github/djamoreland/Quantitative-Neuroscience-Moreland/blob/main/Power_Analysis.ipynb\" target=\"_parent\"><img src=\"https://colab.research.google.com/assets/colab-badge.svg\" alt=\"Open In Colab\"/></a>"
      ]
    },
    {
      "cell_type": "markdown",
      "source": [
        "Do a post-hoc power analysis to determine the number of data samples needed to achieve 80% power for a series of possible effect sizes. Notes and tips:\n",
        "\n",
        "1. Given that the data have already been collected, note that this is technically a \"post-hoc\" power analysis and is for demonstration purposes only. Normally these analyses must be done before collecting data.\n",
        "\n",
        "2. Assume that a \"data sample\" is simply the non-parametric correlation coefficient between pupil diameter and LC activty measured in a given session.\n",
        "\n",
        "3. Thus, to obtain a null distribution of these data samples, compute the correlation coefficients on simulated data that are independently generated from Poisson (for LC spiking data) and Gaussian (for pupil data)distributions.\n",
        "\n",
        "\n",
        "4. Then plot n (number of data samples, corresponding to correlation coefficients measured in a single expermental session) needed for 80% power as a function of effect sizes.\n",
        "\n",
        "5. To compute power, you can use TTestIndPower in Python, or sampsizepwr in Matlab"
      ],
      "metadata": {
        "id": "7dp8jKS0iiQ9"
      }
    },
    {
      "cell_type": "code",
      "source": [
        "from scipy.stats import ttest_ind\n",
        "from scipy.stats import poisson\n",
        "from scipy.stats import norm\n",
        "import numpy as np\n",
        "from statsmodels.stats.power import TTestIndPower"
      ],
      "metadata": {
        "id": "jKQC6nGQi75T"
      },
      "execution_count": 5,
      "outputs": []
    },
    {
      "cell_type": "code",
      "source": [
        "#Made with help from chatgpt\n",
        "\n",
        "np.random.seed(42)\n",
        "\n",
        "N_sim = 3000\n",
        "within_n = 100\n",
        "LC_mu = 20\n",
        "Pupil_mu = 40\n",
        "Pupil_sigma = 1.0\n",
        "alpha = 0.05\n",
        "target_power = 0.80\n",
        "\n",
        "CC_list = []\n",
        "for i in range(N_sim):\n",
        "    lc = poisson.rvs(LC_mu, size=within_n)\n",
        "    pupil = norm.rvs(loc=Pupil_mu, scale=Pupil_sigma, size=within_n)\n",
        "    CC = np.corrcoef(lc, pupil)[0, 1]\n",
        "    CC_list.append(CC)\n",
        "\n",
        "eps = 1e-12\n",
        "z_arr = np.arctanh(np.clip(CC_list, -1+eps, 1-eps))\n",
        "sd_z_sim = np.std(z_arr, ddof=1)\n",
        "\n",
        "effect_sizes = [0.05, 0.1, 0.2, 0.3, 0.4]\n",
        "power_calc = TTestIndPower()\n",
        "results = {}\n",
        "\n",
        "for CC_mean in effect_sizes:\n",
        "    z_mean = np.arctanh(CC_mean)\n",
        "    d = z_mean / sd_z_sim\n",
        "    n_needed = power_calc.solve_power(effect_size=d,\n",
        "                                      power=target_power,\n",
        "                                      alpha=alpha,\n",
        "                                      alternative='two-sided')\n",
        "    results[CC_mean] = int(np.ceil(n_needed))\n",
        "\n",
        "print(\"Sessions needed for 80% power:\")\n",
        "for CC, n in results.items():\n",
        "    print(f\"  If the mean Correlation Coefficient = {CC:.2f}, then {n} sessions are needed to achiece 80% power\")\n",
        "\n"
      ],
      "metadata": {
        "colab": {
          "base_uri": "https://localhost:8080/"
        },
        "id": "xIhUGJdsnJjC",
        "outputId": "f30e144d-26d7-4ede-d201-c3375ae26da5"
      },
      "execution_count": 25,
      "outputs": [
        {
          "output_type": "stream",
          "name": "stdout",
          "text": [
            "Sessions needed for 80% power:\n",
            "  If the mean Correlation Coefficient = 0.05, then 69 sessions are needed to achiece 80% power\n",
            "  If the mean Correlation Coefficient = 0.10, then 18 sessions are needed to achiece 80% power\n",
            "  If the mean Correlation Coefficient = 0.20, then 6 sessions are needed to achiece 80% power\n",
            "  If the mean Correlation Coefficient = 0.30, then 4 sessions are needed to achiece 80% power\n",
            "  If the mean Correlation Coefficient = 0.40, then 3 sessions are needed to achiece 80% power\n"
          ]
        }
      ]
    }
  ]
}
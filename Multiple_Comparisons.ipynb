{
  "nbformat": 4,
  "nbformat_minor": 0,
  "metadata": {
    "colab": {
      "provenance": [],
      "authorship_tag": "ABX9TyM/GsmC1Tergf7iZsZousIa",
      "include_colab_link": true
    },
    "kernelspec": {
      "name": "python3",
      "display_name": "Python 3"
    },
    "language_info": {
      "name": "python"
    }
  },
  "cells": [
    {
      "cell_type": "markdown",
      "metadata": {
        "id": "view-in-github",
        "colab_type": "text"
      },
      "source": [
        "<a href=\"https://colab.research.google.com/github/djamoreland/Quantitative-Neuroscience-Moreland/blob/main/Multiple_Comparisons.ipynb\" target=\"_parent\"><img src=\"https://colab.research.google.com/assets/colab-badge.svg\" alt=\"Open In Colab\"/></a>"
      ]
    },
    {
      "cell_type": "code",
      "execution_count": 2,
      "metadata": {
        "id": "6FY6VwxYHv4B"
      },
      "outputs": [],
      "source": [
        "import numpy as np\n",
        "import matplotlib.pyplot as plt\n",
        "from scipy.stats import t\n",
        "import scipy.stats as st\n",
        "import pandas as pd"
      ]
    },
    {
      "cell_type": "markdown",
      "source": [
        "In this exercise we will run through an example of correcting for multiple comparisons with both the Benjamini-Hochberg procedure and the more conservative Bonferroni correction.\n",
        "\n",
        "1. First, simulate multiple (say, 1000) t-tests comparing two samples with equal means and standard deviations, and save the p-values. Obviously, at p<0.05 we expect that ~5% of the simulations to yield a \"statistically significant\" result (of rejecting the NULL hypothesis that the samples come from distributions with equal means).\n",
        "\n",
        "\n",
        "2. Second, once you have the simulated p-values, apply both methods to address the multiple comparisons problem.\n",
        "\n",
        "3. Third, set the sample 1 and sample 2 means to be 1 and 2 respectively, and re-run the exercise. What do you notice? What if you make the difference between means even greater?"
      ],
      "metadata": {
        "id": "881nPhqKHyS3"
      }
    },
    {
      "cell_type": "code",
      "source": [
        "#simulate t-tests\n",
        "\n",
        "#Create samples with mean of 9.22 and std of idk\n",
        "mean = 9.22\n",
        "std = 1.03\n",
        "n=100\n",
        "\n",
        "#Run 1000 t-test for those two samples\n",
        "\n",
        "N_tests = 1000\n",
        "p_values = []\n",
        "\n",
        "for i in range(N_tests):\n",
        "    sample1 = t.rvs(n-1, loc=mean, scale=std, size=n)\n",
        "    sample2 = t.rvs(n-1, loc=mean, scale=std, size=n)\n",
        "    t_stat, p_value = st.ttest_ind(sample1, sample2)\n",
        "\n",
        "#Save p-values\n",
        "    p_values.append(p_value)\n"
      ],
      "metadata": {
        "id": "XnmCTSJIH-PZ"
      },
      "execution_count": 3,
      "outputs": []
    },
    {
      "cell_type": "code",
      "source": [
        "#Apply multiple comparisons\n",
        "\n",
        "#Bonferroni\n",
        "alpha = 0.05\n",
        "\n",
        "corrected_alpha = alpha/N_tests\n",
        "print(f'The Bonferroni corrected threshold is {corrected_alpha}')\n",
        "\n",
        "#Benjamini-Hochberg\n",
        "Q = 0.05\n",
        "\n",
        "df = pd.DataFrame()\n",
        "df['p-values'] = p_values\n",
        "df = df.sort_values('p-values').reset_index(drop=True)\n",
        "df['rank'] = np.arange(1, N_tests + 1)\n",
        "\n",
        "df['crit_value'] = (df['rank'] / N_tests) * Q\n",
        "\n",
        "# Find the largest p-value that is less than or equal to its critical value\n",
        "significant_p_values = df.loc[df['p-values'] <= df['crit_value'], 'p-values']\n",
        "\n",
        "if not significant_p_values.empty:\n",
        "    BH_threshold = significant_p_values.max()\n",
        "    print(f'The Benjamini-Hochberg corrected threshold is {BH_threshold}')\n",
        "else:\n",
        "    BH_threshold = 0 # No significant results found\n",
        "    print('No p-values were below their Benjamini-Hochberg critical values. No significant results at the Q=0.05 level.')"
      ],
      "metadata": {
        "colab": {
          "base_uri": "https://localhost:8080/"
        },
        "id": "VHX1JiHlLjfB",
        "outputId": "0862942e-c2ac-4b6d-f47d-11f14137ebc6"
      },
      "execution_count": 10,
      "outputs": [
        {
          "output_type": "stream",
          "name": "stdout",
          "text": [
            "The Bonferroni corrected threshold is 5e-05\n",
            "No p-values were below their Benjamini-Hochberg critical values. No significant results at the Q=0.05 level.\n"
          ]
        }
      ]
    },
    {
      "cell_type": "code",
      "source": [
        "#art 3\n",
        "#Create samples with mean of 9.22 and std of idk\n",
        "std = 1.03\n",
        "n=100\n",
        "\n",
        "#Run 1000 t-test for those two samples\n",
        "\n",
        "N_tests = 1000\n",
        "p_values = []\n",
        "\n",
        "for i in range(N_tests):\n",
        "    sample1 = t.rvs(n-1, loc=1, scale=std, size=n)\n",
        "    sample2 = t.rvs(n-1, loc=2, scale=std, size=n)\n",
        "    t_stat, p_value = st.ttest_ind(sample1, sample2)\n",
        "\n",
        "#Save p-values\n",
        "    p_values.append(p_value)\n",
        "\n",
        "\n",
        "\n",
        "#Apply multiple comparisons\n",
        "\n",
        "#Bonferroni\n",
        "alpha = 0.05\n",
        "corrected_p_value = alpha/N_tests\n",
        "#corrected_p_value = [p_values[j]/N_tests for j in range(len(p_values))\n",
        "print(f'The Bonferroni corrected threshold is {corrected_p_value}')\n",
        "\n",
        "#Benjamini-Hochberg\n",
        "Q = 0.05\n",
        "rank = []\n",
        "\n",
        "#Create Ranks\n",
        "r= 1\n",
        "for _ in range(N_tests):\n",
        "  rank.append(r)\n",
        "  r+=1\n",
        "\n",
        "#Find critical values\n",
        "crit_value = []\n",
        "for k in range(len(rank)):\n",
        "  crit = (rank[k]/N_tests) * Q\n",
        "  crit_value.append(crit)\n",
        "\n",
        "\n",
        "#find largest value smaller than its crit value\n",
        "df = pd.DataFrame()\n",
        "df['p-values'] = p_values\n",
        "df['rank'] = rank\n",
        "df['crit_value'] = crit_value\n",
        "BH_corrected_p = df[df['p-values'] < df['crit_value']]['p-values'].max()\n",
        "\n",
        "print(f'The corrected threshold after a Benjamini-Hochberg correction is {BH_corrected_p}')"
      ],
      "metadata": {
        "colab": {
          "base_uri": "https://localhost:8080/"
        },
        "id": "LvvdUkTpP6CD",
        "outputId": "10bf1a66-a608-4704-8b59-46e9e720c2ee"
      },
      "execution_count": 12,
      "outputs": [
        {
          "output_type": "stream",
          "name": "stdout",
          "text": [
            "The Bonferroni corrected threshold is 5e-05\n",
            "The corrected threshold after a Benjamini-Hochberg correction is 0.00016485439145806687\n"
          ]
        }
      ]
    },
    {
      "cell_type": "markdown",
      "source": [
        "As the distance between the means increase the corrected threshold becomes smaller"
      ],
      "metadata": {
        "id": "Rd5px_xeQk7v"
      }
    },
    {
      "cell_type": "code",
      "source": [
        "#With help of chatgpt\n",
        "\n",
        "# Parameters\n",
        "mean1 = 1\n",
        "mean2 = 2   # different mean so we can see some effect\n",
        "std = 1.03\n",
        "n = 100\n",
        "N_tests = 1000\n",
        "alpha = 0.05\n",
        "Q = 0.05  # FDR\n",
        "\n",
        "# Simulate p-values from independent two-sample t-tests\n",
        "p_values = []\n",
        "for i in range(N_tests):\n",
        "    sample1 = np.random.normal(loc=mean1, scale=std, size=n)\n",
        "    sample2 = np.random.normal(loc=mean2, scale=std, size=n)\n",
        "    t_stat, p_value = st.ttest_ind(sample1, sample2)\n",
        "    p_values.append(p_value)\n",
        "\n",
        "# --- Bonferroni correction ---\n",
        "bonf_threshold = alpha / N_tests\n",
        "print(f\"Bonferroni corrected threshold: {bonf_threshold:.6f}\")\n",
        "\n",
        "# --- Benjamini–Hochberg correction ---\n",
        "df = pd.DataFrame({\"p\": p_values})\n",
        "df = df.sort_values(\"p\").reset_index(drop=True)\n",
        "df[\"rank\"] = np.arange(1, N_tests+1)\n",
        "df[\"crit\"] = (df[\"rank\"] / N_tests) * Q\n",
        "\n",
        "# Largest p-value under its critical value\n",
        "bh_threshold = df.loc[df[\"p\"] <= df[\"crit\"], \"p\"].max()\n",
        "\n",
        "print(f\"Benjamini–Hochberg corrected threshold: {bh_threshold:.6f}\")\n",
        "\n",
        "# Mark significance\n",
        "df[\"significant\"] = df[\"p\"] <= bh_threshold\n"
      ],
      "metadata": {
        "colab": {
          "base_uri": "https://localhost:8080/"
        },
        "id": "maGJfEk43msc",
        "outputId": "156216f3-6d06-4343-de13-50a1f94fc386"
      },
      "execution_count": 14,
      "outputs": [
        {
          "output_type": "stream",
          "name": "stdout",
          "text": [
            "Bonferroni corrected threshold: 0.000050\n",
            "Benjamini–Hochberg corrected threshold: 0.000132\n"
          ]
        }
      ]
    }
  ]
}
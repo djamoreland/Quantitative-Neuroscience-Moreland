{
  "nbformat": 4,
  "nbformat_minor": 0,
  "metadata": {
    "colab": {
      "provenance": [],
      "authorship_tag": "ABX9TyPKXTgVFO4Z7n0+7iBJOnIk",
      "include_colab_link": true
    },
    "kernelspec": {
      "name": "python3",
      "display_name": "Python 3"
    },
    "language_info": {
      "name": "python"
    }
  },
  "cells": [
    {
      "cell_type": "markdown",
      "metadata": {
        "id": "view-in-github",
        "colab_type": "text"
      },
      "source": [
        "<a href=\"https://colab.research.google.com/github/djamoreland/Quantitative-Neuroscience-Moreland/blob/main/Moreland_Confidence_Intervals_Exercise.ipynb\" target=\"_parent\"><img src=\"https://colab.research.google.com/assets/colab-badge.svg\" alt=\"Open In Colab\"/></a>"
      ]
    },
    {
      "cell_type": "markdown",
      "source": [
        "Compute confidence/credible intervals based on the four methods above for simulated data sampled from a population that is Gaussian distributed\n",
        "\n",
        "mean =10 and standard deviation =2,\n",
        "\n",
        "for n=5, 10, 20, 40, 80, 160, 1000 at a 95% confidence level."
      ],
      "metadata": {
        "id": "sGf0qploWEhN"
      }
    },
    {
      "cell_type": "code",
      "source": [
        "import numpy as np\n",
        "import math\n",
        "import scipy.stats as stats\n",
        "\n",
        "\n",
        "#Cosmetics\n",
        "np.set_printoptions(legacy='1.25')"
      ],
      "metadata": {
        "id": "TXn214cpWgOM"
      },
      "execution_count": 45,
      "outputs": []
    },
    {
      "cell_type": "code",
      "execution_count": 9,
      "metadata": {
        "id": "BHX7jDM8V8Gc"
      },
      "outputs": [],
      "source": [
        "mean = 10\n",
        "std=2\n",
        "n_list = [5,10,20,40,80,160,1000]"
      ]
    },
    {
      "cell_type": "code",
      "source": [
        "#Simple Analytical Approach\n",
        "\n",
        "CI_dict = {}\n",
        "\n",
        "for n in n_list:\n",
        "  #Calculate SEM\n",
        "  SEM = std / math.sqrt(n)\n",
        "\n",
        "  #Calculate 95% z_score and factor to SEM\n",
        "  z_score_95 = 1.96\n",
        "  norm_SEM = SEM * z_score_95\n",
        "\n",
        "  #Calculate Confidence Interval\n",
        "  Confidence_Interval = [(mean - (norm_SEM)),mean + (norm_SEM)]\n",
        "\n",
        "  CI_dict[f'95% Confidence Interval when n = {str(n)}'] = Confidence_Interval\n",
        "  print(f'A 95% Confidence Interval at n = {n} is {Confidence_Interval}')"
      ],
      "metadata": {
        "colab": {
          "base_uri": "https://localhost:8080/"
        },
        "id": "mi8EfmXaWTPQ",
        "outputId": "e759bb83-cad2-4f26-a48e-47f10960b4f8"
      },
      "execution_count": 24,
      "outputs": [
        {
          "output_type": "stream",
          "name": "stdout",
          "text": [
            "A 95% Confidence Interval at n = 5 is [8.246922705640165, 11.753077294359835]\n",
            "A 95% Confidence Interval at n = 10 is [8.760387157213994, 11.239612842786006]\n",
            "A 95% Confidence Interval at n = 20 is [9.123461352820083, 10.876538647179917]\n",
            "A 95% Confidence Interval at n = 40 is [9.380193578606997, 10.619806421393003]\n",
            "A 95% Confidence Interval at n = 80 is [9.561730676410042, 10.438269323589958]\n",
            "A 95% Confidence Interval at n = 160 is [9.6900967893035, 10.3099032106965]\n",
            "A 95% Confidence Interval at n = 1000 is [9.8760387157214, 10.1239612842786]\n"
          ]
        }
      ]
    },
    {
      "cell_type": "code",
      "source": [
        "#Simple Analytical Approach with Small N\n",
        "\n",
        "for n in n_list:\n",
        "\n",
        "  #Correct standard deviation w Bessel's Correction\n",
        "  std_corrected = math.sqrt((1/(n-1)) * std**2)\n",
        "\n",
        "  #Calculate SEM\n",
        "  SEM = std_corrected / math.sqrt(n)\n",
        "\n",
        "  #Calculate 95% t_score and factor to SEM\n",
        "  df = n-1\n",
        "  t_score_95 = stats.t.ppf((0.5*(1-0.95)), df, loc=0, scale=1)\n",
        "  t_score_95 *= -1\n",
        "\n",
        "  norm_SEM = SEM * t_score_95\n",
        "\n",
        "  #Calculate Confidence Interval\n",
        "  Confidence_Interval = [(mean - (norm_SEM)),mean + (norm_SEM)]\n",
        "\n",
        "\n",
        "  print(f'A 95% Confidence Interval at n = {n} is {Confidence_Interval}')"
      ],
      "metadata": {
        "colab": {
          "base_uri": "https://localhost:8080/"
        },
        "id": "THp6c8pKZ0jv",
        "outputId": "4fc22f6f-25e5-4411-fad9-a1048da976f6"
      },
      "execution_count": 47,
      "outputs": [
        {
          "output_type": "stream",
          "name": "stdout",
          "text": [
            "A 95% Confidence Interval at n = 5 is [8.758336001796234, 11.241663998203766]\n",
            "A 95% Confidence Interval at n = 10 is [9.523095396007774, 10.476904603992226]\n",
            "A 95% Confidence Interval at n = 20 is [9.785260262978362, 10.214739737021638]\n",
            "A 95% Confidence Interval at n = 40 is [9.897577063891804, 10.102422936108196]\n",
            "A 95% Confidence Interval at n = 80 is [9.949924790492515, 10.050075209507485]\n",
            "A 95% Confidence Interval at n = 160 is [9.975235035524467, 10.024764964475533]\n",
            "A 95% Confidence Interval at n = 1000 is [9.996073353263288, 10.003926646736712]\n"
          ]
        }
      ]
    },
    {
      "cell_type": "code",
      "source": [
        "#Bootstrapping - made with help of chat gpt\n",
        "\n",
        "\n",
        "for n in n_list:\n",
        "\n",
        "  #Create sample data from normal distribution centered around mean\n",
        "  sample = stats.norm.rvs(loc = mean,scale = std, size = n)\n",
        "\n",
        "  #Create number of samples\n",
        "  boot_samples = 1000\n",
        "  boot_means = []\n",
        "\n",
        "  #Resample\n",
        "  for i in range(boot_samples):\n",
        "    new_sample = np.random.choice(sample, size=n, replace=True)\n",
        "    boot_means.append(np.mean(new_sample))\n",
        "\n",
        "  #Calculate Confidence Interval\n",
        "  ci_bootstrap = np.percentile(boot_means, [2.5, 97.5])\n",
        "\n",
        "  print(f'Bootstrap 95% Confidence Interval for n of {n} is {ci_bootstrap}')\n",
        "\n"
      ],
      "metadata": {
        "colab": {
          "base_uri": "https://localhost:8080/"
        },
        "id": "wI2Gm8BVr-Zx",
        "outputId": "41d48e77-0349-4959-b6dc-678fa2464ac7"
      },
      "execution_count": 72,
      "outputs": [
        {
          "output_type": "stream",
          "name": "stdout",
          "text": [
            "Bootstrap 95% Confidence Interval for n of 5 is [ 7.09039151 11.39585994]\n",
            "Bootstrap 95% Confidence Interval for n of 10 is [ 7.77088543 11.48589734]\n",
            "Bootstrap 95% Confidence Interval for n of 20 is [ 8.47908868 10.4367196 ]\n",
            "Bootstrap 95% Confidence Interval for n of 40 is [ 9.20383732 10.46172171]\n",
            "Bootstrap 95% Confidence Interval for n of 80 is [ 9.59817381 10.45687304]\n",
            "Bootstrap 95% Confidence Interval for n of 160 is [ 9.86927001 10.48232609]\n",
            "Bootstrap 95% Confidence Interval for n of 1000 is [ 9.96433948 10.21018926]\n"
          ]
        }
      ]
    },
    {
      "cell_type": "code",
      "source": [
        "#Bayesian Credible Intervals - made with help of chatgpt\n",
        "\n",
        "for n in n_list:\n",
        "\n",
        "  #Create sample data from normal distribution centered around mean\n",
        "  sample = stats.norm.rvs(loc = mean,scale = std, size = n)\n",
        "\n",
        "  #Get sample mean and std from simulated data\n",
        "  sample_mean = np.mean(sample)\n",
        "  sample_std = np.std(sample, ddof=1)\n",
        "\n",
        "  #Calculate posterior using t distribution\n",
        "  posterior = stats.t(df=n-1, loc=sample_mean, scale=sample_std/np.sqrt(n))\n",
        "\n",
        "  #Calculate credible interval\n",
        "  ci_bayes = posterior.ppf([0.025, 0.975])\n",
        "\n",
        "\n",
        "  print(f'95% Credible Interval for n of {n} is {ci_bayes}')\n",
        "\n"
      ],
      "metadata": {
        "colab": {
          "base_uri": "https://localhost:8080/"
        },
        "id": "0OSFCOoCSmjT",
        "outputId": "7e30cd57-d81f-4ec0-ad3e-7c1b6f54def0"
      },
      "execution_count": 78,
      "outputs": [
        {
          "output_type": "stream",
          "name": "stdout",
          "text": [
            "95% Credible Interval for n of 5 is [ 6.2725314  11.65103858]\n",
            "95% Credible Interval for n of 10 is [ 8.03360305 10.87221569]\n",
            "95% Credible Interval for n of 20 is [ 9.24471773 11.01036694]\n",
            "95% Credible Interval for n of 40 is [ 9.6291338  10.75288202]\n",
            "95% Credible Interval for n of 80 is [ 9.68977975 10.54835852]\n",
            "95% Credible Interval for n of 160 is [ 9.59431352 10.21730111]\n",
            "95% Credible Interval for n of 1000 is [ 9.81781532 10.07092645]\n"
          ]
        }
      ]
    },
    {
      "cell_type": "code",
      "source": [],
      "metadata": {
        "id": "TpEvhVAeWPCU"
      },
      "execution_count": null,
      "outputs": []
    }
  ]
}